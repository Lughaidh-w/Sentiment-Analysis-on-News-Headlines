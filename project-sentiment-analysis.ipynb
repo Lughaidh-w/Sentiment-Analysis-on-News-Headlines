{
 "cells": [
  {
   "cell_type": "markdown",
   "id": "dcfd5af8",
   "metadata": {},
   "source": [
    "### Exploratory Data Analysis"
   ]
  },
  {
   "cell_type": "markdown",
   "id": "dc72a380",
   "metadata": {},
   "source": [
    "<b> Imports"
   ]
  },
  {
   "cell_type": "code",
   "execution_count": 1,
   "id": "d3c31d42",
   "metadata": {},
   "outputs": [],
   "source": [
    "import pandas as pd\n",
    "import matplotlib.pyplot as plt\n",
    "import matplotlib.ticker as ticker\n",
    "import seaborn as sns\n",
    "import numpy as np\n",
    "import re\n",
    "import nltk\n",
    "from nltk.tokenize import word_tokenize\n",
    "from nltk.corpus import stopwords\n",
    "from nltk import FreqDist\n",
    "from nltk.stem import PorterStemmer\n",
    "from nltk.stem import SnowballStemmer\n",
    "%matplotlib inline\n",
    "\n",
    "import warnings\n",
    "warnings.filterwarnings(\"ignore\")"
   ]
  },
  {
   "cell_type": "markdown",
   "id": "916a8a85",
   "metadata": {},
   "source": [
    "<b>Random seed set"
   ]
  },
  {
   "cell_type": "code",
   "execution_count": 2,
   "id": "40091105",
   "metadata": {},
   "outputs": [],
   "source": [
    "np.random.seed(33)"
   ]
  },
  {
   "cell_type": "markdown",
   "id": "c97c8eff",
   "metadata": {},
   "source": [
    "<b> Dataset loading"
   ]
  },
  {
   "cell_type": "code",
   "execution_count": 3,
   "id": "61eadc59",
   "metadata": {},
   "outputs": [],
   "source": [
    "df = pd.read_csv(\"abcnews-date-text.csv\")"
   ]
  },
  {
   "cell_type": "code",
   "execution_count": 4,
   "id": "9fd75684",
   "metadata": {},
   "outputs": [
    {
     "name": "stdout",
     "output_type": "stream",
     "text": [
      "Shape: (1244184, 2)\n",
      "\n",
      "Head:\n",
      "    publish_date                                      headline_text\n",
      "0      20030219  aba decides against community broadcasting lic...\n",
      "1      20030219     act fire witnesses must be aware of defamation\n",
      "2      20030219     a g calls for infrastructure protection summit\n",
      "3      20030219           air nz staff in aust strike for pay rise\n",
      "4      20030219      air nz strike to affect australian travellers\n",
      "\n",
      "Null Values:\n",
      "publish_date     0\n",
      "headline_text    0\n",
      "dtype: int64\n",
      "\n",
      "<class 'pandas.core.frame.DataFrame'>\n",
      "RangeIndex: 1244184 entries, 0 to 1244183\n",
      "Data columns (total 2 columns):\n",
      " #   Column         Non-Null Count    Dtype \n",
      "---  ------         --------------    ----- \n",
      " 0   publish_date   1244184 non-null  int64 \n",
      " 1   headline_text  1244184 non-null  object\n",
      "dtypes: int64(1), object(1)\n",
      "memory usage: 19.0+ MB\n",
      "None\n",
      "\n",
      "Unique Values:\n",
      "publish_date        6882\n",
      "headline_text    1213004\n",
      "dtype: int64\n",
      "\n",
      "Describe():\n",
      "       publish_date\n",
      "count  1.244184e+06\n",
      "mean   2.011021e+07\n",
      "std    4.841151e+04\n",
      "min    2.003022e+07\n",
      "25%    2.007062e+07\n",
      "50%    2.011062e+07\n",
      "75%    2.015022e+07\n",
      "max    2.021123e+07\n"
     ]
    }
   ],
   "source": [
    "print(\"Shape:\",df.shape, end=\"\\n\\n\")\n",
    "print(\"Head:\\n\", df.head())\n",
    "print(f\"\\nNull Values:\\n{df.isnull().sum()}\", end=\"\\n\\n\")\n",
    "print(df.info(), end=\"\\n\\n\")\n",
    "print(f\"Unique Values:\\n{df.nunique()}\", end=\"\\n\\n\")\n",
    "print(f\"Describe():\\n{df.describe()}\")"
   ]
  },
  {
   "cell_type": "code",
   "execution_count": 5,
   "id": "ebf5c1ad",
   "metadata": {},
   "outputs": [
    {
     "name": "stdout",
     "output_type": "stream",
     "text": [
      "<class 'pandas.core.frame.DataFrame'>\n",
      "RangeIndex: 1244184 entries, 0 to 1244183\n",
      "Data columns (total 2 columns):\n",
      " #   Column         Non-Null Count    Dtype \n",
      "---  ------         --------------    ----- \n",
      " 0   publish_date   1244184 non-null  int64 \n",
      " 1   headline_text  1244184 non-null  object\n",
      "dtypes: int64(1), object(1)\n",
      "memory usage: 19.0+ MB\n"
     ]
    }
   ],
   "source": [
    "df.info()"
   ]
  },
  {
   "cell_type": "markdown",
   "id": "51a2edd0",
   "metadata": {},
   "source": [
    "<b> How many features contain numbers"
   ]
  },
  {
   "cell_type": "code",
   "execution_count": 6,
   "id": "34b48138",
   "metadata": {},
   "outputs": [
    {
     "data": {
      "text/plain": [
       "1244184"
      ]
     },
     "execution_count": 6,
     "metadata": {},
     "output_type": "execute_result"
    }
   ],
   "source": [
    "len(df[\"headline_text\"])"
   ]
  },
  {
   "cell_type": "code",
   "execution_count": 7,
   "id": "93295637",
   "metadata": {},
   "outputs": [],
   "source": [
    "df['has_numbers'] = df['headline_text'].str.contains(r'\\d', na=False).astype(int)"
   ]
  },
  {
   "cell_type": "code",
   "execution_count": 8,
   "id": "f28a75e4",
   "metadata": {},
   "outputs": [
    {
     "data": {
      "image/png": "[encoded data removed]",
      "text/plain": [
       "<Figure size 640x480 with 1 Axes>"
      ]
     },
     "metadata": {},
     "output_type": "display_data"
    }
   ],
   "source": [
    "df['has_numbers'] = df['headline_text'].str.contains(r'\\d', na=False).astype(int)\n",
    "\n",
    "\n",
    "num_entries_with_numbers = df['has_numbers'].sum()\n",
    "sns.set_palette(\"coolwarm\")\n",
    "\n",
    "plt.bar([\"With Numbers\", \"Without Numbers\"], [num_entries_with_numbers, len(df) - num_entries_with_numbers])\n",
    "plt.xlabel(\"Contains Numberic or \")\n",
    "plt.ylabel(\"Count\")\n",
    "plt.title(\"Number of Entries with Numbers in the 'headline_text' column\")\n",
    "plt.show()"
   ]
  },
  {
   "cell_type": "code",
   "execution_count": 9,
   "id": "8abda49f",
   "metadata": {},
   "outputs": [
    {
     "data": {
      "image/png": "[encoded data removed]",
      "text/plain": [
       "<Figure size 640x480 with 1 Axes>"
      ]
     },
     "metadata": {},
     "output_type": "display_data"
    }
   ],
   "source": [
    "df['has_symbols'] = df['headline_text'].str.contains(r'[^\\w\\s]', na=False).astype(int)\n",
    "num_entries_with_symbols = df['has_symbols'].sum()\n",
    "\n",
    "# Plot the count\n",
    "plt.bar([\"With Symbols\", \"Without Symbols\"], [num_entries_with_symbols, len(df) - num_entries_with_symbols])\n",
    "plt.xlabel(\"Categories\")\n",
    "plt.ylabel(\"Count\")\n",
    "plt.title(\"Number of Entries with Symbols or Other Characters in the 'headline_text' column\")\n",
    "plt.show()"
   ]
  },
  {
   "cell_type": "markdown",
   "id": "dd2f1edd",
   "metadata": {},
   "source": [
    "<b> Converting Date to datetime"
   ]
  },
  {
   "cell_type": "code",
   "execution_count": 10,
   "id": "c2782c67",
   "metadata": {},
   "outputs": [],
   "source": [
    "df['publish_date'] = pd.to_datetime(df['publish_date'], format='%Y%m%d')\n",
    "df['year'] = df['publish_date'].dt.year\n",
    "df['month'] = df['publish_date'].dt.month"
   ]
  },
  {
   "cell_type": "markdown",
   "id": "ae4867d1",
   "metadata": {},
   "source": [
    "<b> Plot Date"
   ]
  },
  {
   "cell_type": "code",
   "execution_count": 11,
   "id": "a89f4cbb",
   "metadata": {},
   "outputs": [
    {
     "data": {
      "text/html": [
       "<div>\n",
       "<style scoped>\n",
       "    .dataframe tbody tr th:only-of-type {\n",
       "        vertical-align: middle;\n",
       "    }\n",
       "\n",
       "    .dataframe tbody tr th {\n",
       "        vertical-align: top;\n",
       "    }\n",
       "\n",
       "    .dataframe thead th {\n",
       "        text-align: right;\n",
       "    }\n",
       "</style>\n",
       "<table border=\"1\" class=\"dataframe\">\n",
       "  <thead>\n",
       "    <tr style=\"text-align: right;\">\n",
       "      <th></th>\n",
       "      <th>publish_date</th>\n",
       "      <th>headline_text</th>\n",
       "      <th>has_numbers</th>\n",
       "      <th>has_symbols</th>\n",
       "      <th>year</th>\n",
       "      <th>month</th>\n",
       "    </tr>\n",
       "  </thead>\n",
       "  <tbody>\n",
       "    <tr>\n",
       "      <th>0</th>\n",
       "      <td>2003-02-19</td>\n",
       "      <td>aba decides against community broadcasting lic...</td>\n",
       "      <td>0</td>\n",
       "      <td>0</td>\n",
       "      <td>2003</td>\n",
       "      <td>2</td>\n",
       "    </tr>\n",
       "    <tr>\n",
       "      <th>1</th>\n",
       "      <td>2003-02-19</td>\n",
       "      <td>act fire witnesses must be aware of defamation</td>\n",
       "      <td>0</td>\n",
       "      <td>0</td>\n",
       "      <td>2003</td>\n",
       "      <td>2</td>\n",
       "    </tr>\n",
       "    <tr>\n",
       "      <th>2</th>\n",
       "      <td>2003-02-19</td>\n",
       "      <td>a g calls for infrastructure protection summit</td>\n",
       "      <td>0</td>\n",
       "      <td>0</td>\n",
       "      <td>2003</td>\n",
       "      <td>2</td>\n",
       "    </tr>\n",
       "    <tr>\n",
       "      <th>3</th>\n",
       "      <td>2003-02-19</td>\n",
       "      <td>air nz staff in aust strike for pay rise</td>\n",
       "      <td>0</td>\n",
       "      <td>0</td>\n",
       "      <td>2003</td>\n",
       "      <td>2</td>\n",
       "    </tr>\n",
       "    <tr>\n",
       "      <th>4</th>\n",
       "      <td>2003-02-19</td>\n",
       "      <td>air nz strike to affect australian travellers</td>\n",
       "      <td>0</td>\n",
       "      <td>0</td>\n",
       "      <td>2003</td>\n",
       "      <td>2</td>\n",
       "    </tr>\n",
       "    <tr>\n",
       "      <th>...</th>\n",
       "      <td>...</td>\n",
       "      <td>...</td>\n",
       "      <td>...</td>\n",
       "      <td>...</td>\n",
       "      <td>...</td>\n",
       "      <td>...</td>\n",
       "    </tr>\n",
       "    <tr>\n",
       "      <th>1244179</th>\n",
       "      <td>2021-12-31</td>\n",
       "      <td>two aged care residents die as state records 2...</td>\n",
       "      <td>1</td>\n",
       "      <td>1</td>\n",
       "      <td>2021</td>\n",
       "      <td>12</td>\n",
       "    </tr>\n",
       "    <tr>\n",
       "      <th>1244180</th>\n",
       "      <td>2021-12-31</td>\n",
       "      <td>victoria records 5;919 new cases and seven deaths</td>\n",
       "      <td>1</td>\n",
       "      <td>1</td>\n",
       "      <td>2021</td>\n",
       "      <td>12</td>\n",
       "    </tr>\n",
       "    <tr>\n",
       "      <th>1244181</th>\n",
       "      <td>2021-12-31</td>\n",
       "      <td>wa delays adopting new close contact definition</td>\n",
       "      <td>0</td>\n",
       "      <td>0</td>\n",
       "      <td>2021</td>\n",
       "      <td>12</td>\n",
       "    </tr>\n",
       "    <tr>\n",
       "      <th>1244182</th>\n",
       "      <td>2021-12-31</td>\n",
       "      <td>western ringtail possums found badly dehydrate...</td>\n",
       "      <td>0</td>\n",
       "      <td>0</td>\n",
       "      <td>2021</td>\n",
       "      <td>12</td>\n",
       "    </tr>\n",
       "    <tr>\n",
       "      <th>1244183</th>\n",
       "      <td>2021-12-31</td>\n",
       "      <td>what makes you a close covid contact here are ...</td>\n",
       "      <td>0</td>\n",
       "      <td>0</td>\n",
       "      <td>2021</td>\n",
       "      <td>12</td>\n",
       "    </tr>\n",
       "  </tbody>\n",
       "</table>\n",
       "<p>1244184 rows × 6 columns</p>\n",
       "</div>"
      ],
      "text/plain": [
       "        publish_date                                      headline_text  \\\n",
       "0         2003-02-19  aba decides against community broadcasting lic...   \n",
       "1         2003-02-19     act fire witnesses must be aware of defamation   \n",
       "2         2003-02-19     a g calls for infrastructure protection summit   \n",
       "3         2003-02-19           air nz staff in aust strike for pay rise   \n",
       "4         2003-02-19      air nz strike to affect australian travellers   \n",
       "...              ...                                                ...   \n",
       "1244179   2021-12-31  two aged care residents die as state records 2...   \n",
       "1244180   2021-12-31  victoria records 5;919 new cases and seven deaths   \n",
       "1244181   2021-12-31    wa delays adopting new close contact definition   \n",
       "1244182   2021-12-31  western ringtail possums found badly dehydrate...   \n",
       "1244183   2021-12-31  what makes you a close covid contact here are ...   \n",
       "\n",
       "         has_numbers  has_symbols  year  month  \n",
       "0                  0            0  2003      2  \n",
       "1                  0            0  2003      2  \n",
       "2                  0            0  2003      2  \n",
       "3                  0            0  2003      2  \n",
       "4                  0            0  2003      2  \n",
       "...              ...          ...   ...    ...  \n",
       "1244179            1            1  2021     12  \n",
       "1244180            1            1  2021     12  \n",
       "1244181            0            0  2021     12  \n",
       "1244182            0            0  2021     12  \n",
       "1244183            0            0  2021     12  \n",
       "\n",
       "[1244184 rows x 6 columns]"
      ]
     },
     "execution_count": 11,
     "metadata": {},
     "output_type": "execute_result"
    }
   ],
   "source": [
    "df"
   ]
  },
  {
   "cell_type": "code",
   "execution_count": 12,
   "id": "8d53f29d",
   "metadata": {},
   "outputs": [
    {
     "data": {
      "image/png": "[encoded data removed]",
      "text/plain": [
       "<Figure size 640x480 with 1 Axes>"
      ]
     },
     "metadata": {},
     "output_type": "display_data"
    }
   ],
   "source": [
    "entry_counts = df.groupby('year').size()\n",
    "entry_counts.plot(kind='bar')\n",
    "\n",
    "plt.show()"
   ]
  },
  {
   "cell_type": "markdown",
   "id": "3f17d828",
   "metadata": {},
   "source": [
    "<b> Explore case of text"
   ]
  },
  {
   "cell_type": "code",
   "execution_count": 13,
   "id": "fd871381",
   "metadata": {},
   "outputs": [],
   "source": [
    "def categorize_text(headline):\n",
    "    if any(char.isupper() for char in headline):\n",
    "        return 1  # Text has at least one capital letter\n",
    "    else:\n",
    "        return 0  # Text has no capital letters\n",
    "\n",
    "df['contains_upper'] = df['headline_text'].apply(categorize_text)"
   ]
  },
  {
   "cell_type": "code",
   "execution_count": 14,
   "id": "32ae53d7",
   "metadata": {},
   "outputs": [
    {
     "data": {
      "text/plain": [
       "contains_upper\n",
       "0    1244184\n",
       "Name: count, dtype: int64"
      ]
     },
     "execution_count": 14,
     "metadata": {},
     "output_type": "execute_result"
    }
   ],
   "source": [
    "df['contains_upper'].value_counts()"
   ]
  },
  {
   "cell_type": "markdown",
   "id": "231d0295",
   "metadata": {},
   "source": [
    "### Data Wrangling"
   ]
  },
  {
   "cell_type": "markdown",
   "id": "c7e5b51d",
   "metadata": {},
   "source": [
    "<b> Dropping date"
   ]
  },
  {
   "cell_type": "code",
   "execution_count": 17,
   "id": "cca602d1",
   "metadata": {},
   "outputs": [],
   "source": [
    "#df = df.drop(\"publish_date\", axis=1)"
   ]
  },
  {
   "cell_type": "markdown",
   "id": "fad82f5b",
   "metadata": {},
   "source": [
    "<b> Removing numeric and special characters"
   ]
  },
  {
   "cell_type": "code",
   "execution_count": 16,
   "id": "2af14d88",
   "metadata": {},
   "outputs": [
    {
     "name": "stdout",
     "output_type": "stream",
     "text": [
      "Shape of dataset when removing entries: (1132423, 7)\n"
     ]
    }
   ],
   "source": [
    "# can also be dropped from the dataset\n",
    "df1 = df[df[\"has_symbols\"] == 0]\n",
    "df1 = df1[df1[\"has_numbers\"] == 0]\n",
    "print(f\"Shape of dataset when removing entries: {df1.shape}\")\n",
    "df1 = None"
   ]
  },
  {
   "cell_type": "code",
   "execution_count": 18,
   "id": "5ed624a2",
   "metadata": {},
   "outputs": [
    {
     "name": "stdout",
     "output_type": "stream",
     "text": [
      "Shape of dataset when removing keeping entries: (1244184, 7)\n"
     ]
    }
   ],
   "source": [
    "def remove_numeric(headline):\n",
    "    return re.sub(r'\\d', '', headline)\n",
    "\n",
    "# Apply the function to the 'text' column\n",
    "df['headline_text'] = df['headline_text'].apply(remove_numeric)\n",
    "print(f\"Shape of dataset when removing keeping entries: {df.shape}\")"
   ]
  },
  {
   "cell_type": "markdown",
   "id": "ce1c6ecf",
   "metadata": {},
   "source": [
    "<b> Ensure lower case"
   ]
  },
  {
   "cell_type": "code",
   "execution_count": 19,
   "id": "053e7d61",
   "metadata": {},
   "outputs": [],
   "source": [
    "df[\"headline_text\"] = df[\"headline_text\"].str.lower()"
   ]
  },
  {
   "cell_type": "markdown",
   "id": "85894e36",
   "metadata": {},
   "source": [
    "<b> Remove columns"
   ]
  },
  {
   "cell_type": "code",
   "execution_count": 20,
   "id": "b6856448",
   "metadata": {},
   "outputs": [],
   "source": [
    "columns = [\"has_numbers\", \"has_symbols\", \"contains_upper\"]\n",
    "df = df.drop(columns, axis=1)"
   ]
  },
  {
   "cell_type": "markdown",
   "id": "a3b51fa5",
   "metadata": {},
   "source": [
    "### Preprocessing"
   ]
  },
  {
   "cell_type": "markdown",
   "id": "c19a4fa1",
   "metadata": {},
   "source": [
    "<b>Imports"
   ]
  },
  {
   "cell_type": "code",
   "execution_count": 21,
   "id": "3615bfda",
   "metadata": {},
   "outputs": [],
   "source": [
    "from sklearn.model_selection import train_test_split\n",
    "from sklearn.feature_extraction.text import CountVectorizer\n",
    "from sklearn.feature_extraction.text import TfidfTransformer\n",
    "from nltk import ngrams\n",
    "from vaderSentiment.vaderSentiment import SentimentIntensityAnalyzer\n",
    "from textblob import TextBlob"
   ]
  },
  {
   "cell_type": "markdown",
   "id": "e2732de2",
   "metadata": {},
   "source": [
    "<b> Tokenisation"
   ]
  },
  {
   "cell_type": "code",
   "execution_count": 22,
   "id": "593e0f1d",
   "metadata": {},
   "outputs": [],
   "source": [
    "def tokenize_text(text):\n",
    "    tokens = word_tokenize(text)\n",
    "    return tokens\n",
    "\n",
    "df['tokens'] = df['headline_text'].apply(tokenize_text)"
   ]
  },
  {
   "cell_type": "markdown",
   "id": "c0b53257",
   "metadata": {},
   "source": [
    "<b> Remove Stop Words"
   ]
  },
  {
   "cell_type": "code",
   "execution_count": 23,
   "id": "34204551",
   "metadata": {},
   "outputs": [],
   "source": [
    "stop_words = set(stopwords.words('english'))\n",
    "\n",
    "def remove_stopwords(tokens):\n",
    "    filtered_tokens = [token for token in tokens if token.lower() not in stop_words]\n",
    "    return filtered_tokens\n",
    "\n",
    "df['filtered_tokens'] = df['tokens'].apply(remove_stopwords)"
   ]
  },
  {
   "cell_type": "markdown",
   "id": "ccd9ef0f",
   "metadata": {},
   "source": [
    "<b>Removing initials and other one letter words"
   ]
  },
  {
   "cell_type": "code",
   "execution_count": 24,
   "id": "414c2317",
   "metadata": {},
   "outputs": [],
   "source": [
    "def analyse_sentiment(text):\n",
    "    blob = TextBlob(text)\n",
    "    sentiment = blob.sentiment.polarity\n",
    "    return sentiment"
   ]
  },
  {
   "cell_type": "code",
   "execution_count": 25,
   "id": "8ff6d991",
   "metadata": {},
   "outputs": [
    {
     "name": "stdout",
     "output_type": "stream",
     "text": [
      "Sentiment Analysis of verse :\n",
      "\n",
      "'air nz strike affect Australian travellers'\n",
      "\n",
      "Sentiment: 0.0\n"
     ]
    }
   ],
   "source": [
    "text = \"air nz strike affect Australian travellers\"\n",
    "\n",
    "sent = analyse_sentiment(text)\n",
    "print(f\"Sentiment Analysis of verse :\\n\\n'{text}'\\n\\nSentiment: {sent}\")"
   ]
  },
  {
   "cell_type": "code",
   "execution_count": 26,
   "id": "376e2ebc",
   "metadata": {},
   "outputs": [
    {
     "name": "stdout",
     "output_type": "stream",
     "text": [
      "Sentiment Analysis of verse :\n",
      "\n",
      "'air strike affect Australian travellers'\n",
      "\n",
      "Sentiment: 0.0\n"
     ]
    }
   ],
   "source": [
    "text = \"air strike affect Australian travellers\"\n",
    "sent = analyse_sentiment(text)\n",
    "print(f\"Sentiment Analysis of verse :\\n\\n'{text}'\\n\\nSentiment: {sent}\")"
   ]
  },
  {
   "cell_type": "code",
   "execution_count": 27,
   "id": "06d4e6a2",
   "metadata": {},
   "outputs": [
    {
     "data": {
      "text/plain": [
       "test\n",
       "[]              1214549\n",
       "[:]                6509\n",
       "[;]                5287\n",
       "[']                3356\n",
       "[b]                1456\n",
       "                 ...   \n",
       "[b, n]                1\n",
       "[', x, :]             1\n",
       "[;, :, ;, n]          1\n",
       "[u, n]                1\n",
       "[j, b]                1\n",
       "Name: count, Length: 238, dtype: int64"
      ]
     },
     "execution_count": 27,
     "metadata": {},
     "output_type": "execute_result"
    }
   ],
   "source": [
    "def filter_words(words):\n",
    "    return list(filter(lambda x: len(x) <= 1, words))\n",
    "\n",
    "df['test'] = df['filtered_tokens'].apply(filter_words)\n",
    "df['test'].value_counts()"
   ]
  },
  {
   "cell_type": "code",
   "execution_count": 28,
   "id": "b42488b6",
   "metadata": {},
   "outputs": [
    {
     "data": {
      "text/plain": [
       "test\n",
       "[]               1091362\n",
       "[us]               18529\n",
       "[wa]               12564\n",
       "[sa]                9643\n",
       "[nt]                7542\n",
       "                  ...   \n",
       "[v, gc]                1\n",
       "['s, $, k, ;]          1\n",
       "[en, mh]               1\n",
       "[dy]                   1\n",
       "[:, nt, wa]            1\n",
       "Name: count, Length: 3468, dtype: int64"
      ]
     },
     "execution_count": 28,
     "metadata": {},
     "output_type": "execute_result"
    }
   ],
   "source": [
    "def filter_words(words):\n",
    "    return list(filter(lambda x: len(x) <= 2, words))\n",
    "\n",
    "df['test'] = df['filtered_tokens'].apply(filter_words)\n",
    "df['test'].value_counts()"
   ]
  },
  {
   "cell_type": "code",
   "execution_count": 29,
   "id": "73f93798",
   "metadata": {},
   "outputs": [
    {
     "data": {
      "text/html": [
       "<div>\n",
       "<style scoped>\n",
       "    .dataframe tbody tr th:only-of-type {\n",
       "        vertical-align: middle;\n",
       "    }\n",
       "\n",
       "    .dataframe tbody tr th {\n",
       "        vertical-align: top;\n",
       "    }\n",
       "\n",
       "    .dataframe thead th {\n",
       "        text-align: right;\n",
       "    }\n",
       "</style>\n",
       "<table border=\"1\" class=\"dataframe\">\n",
       "  <thead>\n",
       "    <tr style=\"text-align: right;\">\n",
       "      <th></th>\n",
       "      <th>publish_date</th>\n",
       "      <th>headline_text</th>\n",
       "      <th>year</th>\n",
       "      <th>month</th>\n",
       "      <th>tokens</th>\n",
       "      <th>filtered_tokens</th>\n",
       "    </tr>\n",
       "  </thead>\n",
       "  <tbody>\n",
       "    <tr>\n",
       "      <th>0</th>\n",
       "      <td>2003-02-19</td>\n",
       "      <td>aba decides against community broadcasting lic...</td>\n",
       "      <td>2003</td>\n",
       "      <td>2</td>\n",
       "      <td>[aba, decides, against, community, broadcastin...</td>\n",
       "      <td>[aba, decides, community, broadcasting, licence]</td>\n",
       "    </tr>\n",
       "    <tr>\n",
       "      <th>1</th>\n",
       "      <td>2003-02-19</td>\n",
       "      <td>act fire witnesses must be aware of defamation</td>\n",
       "      <td>2003</td>\n",
       "      <td>2</td>\n",
       "      <td>[act, fire, witnesses, must, be, aware, of, de...</td>\n",
       "      <td>[act, fire, witnesses, must, aware, defamation]</td>\n",
       "    </tr>\n",
       "    <tr>\n",
       "      <th>2</th>\n",
       "      <td>2003-02-19</td>\n",
       "      <td>a g calls for infrastructure protection summit</td>\n",
       "      <td>2003</td>\n",
       "      <td>2</td>\n",
       "      <td>[a, g, calls, for, infrastructure, protection,...</td>\n",
       "      <td>[calls, infrastructure, protection, summit]</td>\n",
       "    </tr>\n",
       "    <tr>\n",
       "      <th>3</th>\n",
       "      <td>2003-02-19</td>\n",
       "      <td>air nz staff in aust strike for pay rise</td>\n",
       "      <td>2003</td>\n",
       "      <td>2</td>\n",
       "      <td>[air, nz, staff, in, aust, strike, for, pay, r...</td>\n",
       "      <td>[air, staff, aust, strike, pay, rise]</td>\n",
       "    </tr>\n",
       "    <tr>\n",
       "      <th>4</th>\n",
       "      <td>2003-02-19</td>\n",
       "      <td>air nz strike to affect australian travellers</td>\n",
       "      <td>2003</td>\n",
       "      <td>2</td>\n",
       "      <td>[air, nz, strike, to, affect, australian, trav...</td>\n",
       "      <td>[air, strike, affect, australian, travellers]</td>\n",
       "    </tr>\n",
       "  </tbody>\n",
       "</table>\n",
       "</div>"
      ],
      "text/plain": [
       "  publish_date                                      headline_text  year  \\\n",
       "0   2003-02-19  aba decides against community broadcasting lic...  2003   \n",
       "1   2003-02-19     act fire witnesses must be aware of defamation  2003   \n",
       "2   2003-02-19     a g calls for infrastructure protection summit  2003   \n",
       "3   2003-02-19           air nz staff in aust strike for pay rise  2003   \n",
       "4   2003-02-19      air nz strike to affect australian travellers  2003   \n",
       "\n",
       "   month                                             tokens  \\\n",
       "0      2  [aba, decides, against, community, broadcastin...   \n",
       "1      2  [act, fire, witnesses, must, be, aware, of, de...   \n",
       "2      2  [a, g, calls, for, infrastructure, protection,...   \n",
       "3      2  [air, nz, staff, in, aust, strike, for, pay, r...   \n",
       "4      2  [air, nz, strike, to, affect, australian, trav...   \n",
       "\n",
       "                                    filtered_tokens  \n",
       "0  [aba, decides, community, broadcasting, licence]  \n",
       "1   [act, fire, witnesses, must, aware, defamation]  \n",
       "2       [calls, infrastructure, protection, summit]  \n",
       "3             [air, staff, aust, strike, pay, rise]  \n",
       "4     [air, strike, affect, australian, travellers]  "
      ]
     },
     "execution_count": 29,
     "metadata": {},
     "output_type": "execute_result"
    }
   ],
   "source": [
    "def filter_words(words):\n",
    "    return list(filter(lambda x: len(x) > 2, words))\n",
    "df['filtered_tokens'] = df['filtered_tokens'].apply(filter_words)\n",
    "df = df.drop([\"test\"],axis=1)\n",
    "df.head()"
   ]
  },
  {
   "cell_type": "markdown",
   "id": "71be6703",
   "metadata": {},
   "source": [
    "<b> Number of Words"
   ]
  },
  {
   "cell_type": "code",
   "execution_count": 30,
   "id": "0aa14766",
   "metadata": {},
   "outputs": [],
   "source": [
    "df[\"number_of_words\"] = df[\"tokens\"].apply(len)"
   ]
  },
  {
   "cell_type": "code",
   "execution_count": 31,
   "id": "bd4ca0da",
   "metadata": {},
   "outputs": [],
   "source": [
    "df['fd'] = df['filtered_tokens'].apply(FreqDist)"
   ]
  },
  {
   "cell_type": "markdown",
   "id": "d9904e19",
   "metadata": {},
   "source": [
    "<b> Unique Words"
   ]
  },
  {
   "cell_type": "code",
   "execution_count": 32,
   "id": "333efd90",
   "metadata": {},
   "outputs": [],
   "source": [
    "df[\"unique_words\"] = df['fd'].apply(lambda x: len(x))"
   ]
  },
  {
   "cell_type": "markdown",
   "id": "95f314a9",
   "metadata": {},
   "source": [
    "<b> ngrams (Bigrams)"
   ]
  },
  {
   "cell_type": "code",
   "execution_count": 33,
   "id": "d8e83205",
   "metadata": {},
   "outputs": [],
   "source": [
    "n=2\n",
    "df['ngrams'] = df['filtered_tokens'].apply(lambda x: list(ngrams(x, n)))"
   ]
  },
  {
   "cell_type": "code",
   "execution_count": 34,
   "id": "2f0a69dd",
   "metadata": {},
   "outputs": [
    {
     "data": {
      "text/plain": [
       "[('aba', 'decides'),\n",
       " ('decides', 'community'),\n",
       " ('community', 'broadcasting'),\n",
       " ('broadcasting', 'licence')]"
      ]
     },
     "execution_count": 34,
     "metadata": {},
     "output_type": "execute_result"
    }
   ],
   "source": [
    "ngrams_row = df['ngrams'][0] \n",
    "ngrams_row"
   ]
  },
  {
   "cell_type": "markdown",
   "id": "9303dc6b",
   "metadata": {},
   "source": [
    "<b> Frequency of Bigrams"
   ]
  },
  {
   "cell_type": "code",
   "execution_count": 35,
   "id": "925c01b1",
   "metadata": {},
   "outputs": [],
   "source": [
    "all_bigrams = [bigram for sublist in df['ngrams'] for bigram in sublist]\n",
    "\n",
    "# Calculate the frequency distribution of bigrams\n",
    "freq_dist = FreqDist(all_bigrams)\n",
    "\n",
    "# Retrieve the most common bigrams\n",
    "most_common_bigrams = freq_dist.most_common(10)"
   ]
  },
  {
   "cell_type": "code",
   "execution_count": 36,
   "id": "977b7ef9",
   "metadata": {},
   "outputs": [
    {
     "data": {
      "text/plain": [
       "[(('man', 'charged'), 3927),\n",
       " (('gold', 'coast'), 3643),\n",
       " (('world', 'cup'), 3399),\n",
       " (('country', 'hour'), 2973),\n",
       " (('donald', 'trump'), 2630),\n",
       " (('pleads', 'guilty'), 2355),\n",
       " (('mental', 'health'), 2302),\n",
       " (('climate', 'change'), 2197),\n",
       " (('police', 'investigate'), 1964),\n",
       " (('new', 'zealand'), 1714)]"
      ]
     },
     "execution_count": 36,
     "metadata": {},
     "output_type": "execute_result"
    }
   ],
   "source": [
    "most_common_bigrams"
   ]
  },
  {
   "cell_type": "code",
   "execution_count": 37,
   "id": "6ea8650b",
   "metadata": {},
   "outputs": [
    {
     "data": {
      "text/plain": [
       "2522413"
      ]
     },
     "execution_count": 37,
     "metadata": {},
     "output_type": "execute_result"
    }
   ],
   "source": [
    "type(most_common_bigrams)\n",
    "len(freq_dist)"
   ]
  },
  {
   "cell_type": "code",
   "execution_count": 38,
   "id": "f260eb0c",
   "metadata": {},
   "outputs": [
    {
     "data": {
      "image/png": "[encoded data removed]",
      "text/plain": [
       "<Figure size 640x480 with 1 Axes>"
      ]
     },
     "metadata": {},
     "output_type": "display_data"
    }
   ],
   "source": [
    "categories = [str(t[0]) for t in most_common_bigrams]\n",
    "numbers = [t[1] for t in most_common_bigrams]\n",
    "\n",
    "plt.bar(categories, numbers)\n",
    "plt.xticks(rotation=45)\n",
    "plt.xlabel('Bigrams')\n",
    "plt.ylabel('Count')\n",
    "plt.title('Top 10 Bigrams')\n",
    "plt.show()"
   ]
  },
  {
   "cell_type": "markdown",
   "id": "b6a59daa",
   "metadata": {},
   "source": [
    "<b> Polarity"
   ]
  },
  {
   "cell_type": "code",
   "execution_count": 39,
   "id": "7f7d4f0b",
   "metadata": {},
   "outputs": [],
   "source": [
    "sentiment = SentimentIntensityAnalyzer()"
   ]
  },
  {
   "cell_type": "code",
   "execution_count": 40,
   "id": "9c10ef01",
   "metadata": {},
   "outputs": [
    {
     "data": {
      "text/html": [
       "<div>\n",
       "<style scoped>\n",
       "    .dataframe tbody tr th:only-of-type {\n",
       "        vertical-align: middle;\n",
       "    }\n",
       "\n",
       "    .dataframe tbody tr th {\n",
       "        vertical-align: top;\n",
       "    }\n",
       "\n",
       "    .dataframe thead th {\n",
       "        text-align: right;\n",
       "    }\n",
       "</style>\n",
       "<table border=\"1\" class=\"dataframe\">\n",
       "  <thead>\n",
       "    <tr style=\"text-align: right;\">\n",
       "      <th></th>\n",
       "      <th>publish_date</th>\n",
       "      <th>headline_text</th>\n",
       "      <th>year</th>\n",
       "      <th>month</th>\n",
       "      <th>tokens</th>\n",
       "      <th>filtered_tokens</th>\n",
       "      <th>number_of_words</th>\n",
       "      <th>fd</th>\n",
       "      <th>unique_words</th>\n",
       "      <th>ngrams</th>\n",
       "    </tr>\n",
       "  </thead>\n",
       "  <tbody>\n",
       "    <tr>\n",
       "      <th>0</th>\n",
       "      <td>2003-02-19</td>\n",
       "      <td>aba decides against community broadcasting lic...</td>\n",
       "      <td>2003</td>\n",
       "      <td>2</td>\n",
       "      <td>[aba, decides, against, community, broadcastin...</td>\n",
       "      <td>[aba, decides, community, broadcasting, licence]</td>\n",
       "      <td>6</td>\n",
       "      <td>{'aba': 1, 'decides': 1, 'community': 1, 'broa...</td>\n",
       "      <td>5</td>\n",
       "      <td>[(aba, decides), (decides, community), (commun...</td>\n",
       "    </tr>\n",
       "    <tr>\n",
       "      <th>1</th>\n",
       "      <td>2003-02-19</td>\n",
       "      <td>act fire witnesses must be aware of defamation</td>\n",
       "      <td>2003</td>\n",
       "      <td>2</td>\n",
       "      <td>[act, fire, witnesses, must, be, aware, of, de...</td>\n",
       "      <td>[act, fire, witnesses, must, aware, defamation]</td>\n",
       "      <td>8</td>\n",
       "      <td>{'act': 1, 'fire': 1, 'witnesses': 1, 'must': ...</td>\n",
       "      <td>6</td>\n",
       "      <td>[(act, fire), (fire, witnesses), (witnesses, m...</td>\n",
       "    </tr>\n",
       "    <tr>\n",
       "      <th>2</th>\n",
       "      <td>2003-02-19</td>\n",
       "      <td>a g calls for infrastructure protection summit</td>\n",
       "      <td>2003</td>\n",
       "      <td>2</td>\n",
       "      <td>[a, g, calls, for, infrastructure, protection,...</td>\n",
       "      <td>[calls, infrastructure, protection, summit]</td>\n",
       "      <td>7</td>\n",
       "      <td>{'calls': 1, 'infrastructure': 1, 'protection'...</td>\n",
       "      <td>4</td>\n",
       "      <td>[(calls, infrastructure), (infrastructure, pro...</td>\n",
       "    </tr>\n",
       "    <tr>\n",
       "      <th>3</th>\n",
       "      <td>2003-02-19</td>\n",
       "      <td>air nz staff in aust strike for pay rise</td>\n",
       "      <td>2003</td>\n",
       "      <td>2</td>\n",
       "      <td>[air, nz, staff, in, aust, strike, for, pay, r...</td>\n",
       "      <td>[air, staff, aust, strike, pay, rise]</td>\n",
       "      <td>9</td>\n",
       "      <td>{'air': 1, 'staff': 1, 'aust': 1, 'strike': 1,...</td>\n",
       "      <td>6</td>\n",
       "      <td>[(air, staff), (staff, aust), (aust, strike), ...</td>\n",
       "    </tr>\n",
       "    <tr>\n",
       "      <th>4</th>\n",
       "      <td>2003-02-19</td>\n",
       "      <td>air nz strike to affect australian travellers</td>\n",
       "      <td>2003</td>\n",
       "      <td>2</td>\n",
       "      <td>[air, nz, strike, to, affect, australian, trav...</td>\n",
       "      <td>[air, strike, affect, australian, travellers]</td>\n",
       "      <td>7</td>\n",
       "      <td>{'air': 1, 'strike': 1, 'affect': 1, 'australi...</td>\n",
       "      <td>5</td>\n",
       "      <td>[(air, strike), (strike, affect), (affect, aus...</td>\n",
       "    </tr>\n",
       "  </tbody>\n",
       "</table>\n",
       "</div>"
      ],
      "text/plain": [
       "  publish_date                                      headline_text  year  \\\n",
       "0   2003-02-19  aba decides against community broadcasting lic...  2003   \n",
       "1   2003-02-19     act fire witnesses must be aware of defamation  2003   \n",
       "2   2003-02-19     a g calls for infrastructure protection summit  2003   \n",
       "3   2003-02-19           air nz staff in aust strike for pay rise  2003   \n",
       "4   2003-02-19      air nz strike to affect australian travellers  2003   \n",
       "\n",
       "   month                                             tokens  \\\n",
       "0      2  [aba, decides, against, community, broadcastin...   \n",
       "1      2  [act, fire, witnesses, must, be, aware, of, de...   \n",
       "2      2  [a, g, calls, for, infrastructure, protection,...   \n",
       "3      2  [air, nz, staff, in, aust, strike, for, pay, r...   \n",
       "4      2  [air, nz, strike, to, affect, australian, trav...   \n",
       "\n",
       "                                    filtered_tokens  number_of_words  \\\n",
       "0  [aba, decides, community, broadcasting, licence]                6   \n",
       "1   [act, fire, witnesses, must, aware, defamation]                8   \n",
       "2       [calls, infrastructure, protection, summit]                7   \n",
       "3             [air, staff, aust, strike, pay, rise]                9   \n",
       "4     [air, strike, affect, australian, travellers]                7   \n",
       "\n",
       "                                                  fd  unique_words  \\\n",
       "0  {'aba': 1, 'decides': 1, 'community': 1, 'broa...             5   \n",
       "1  {'act': 1, 'fire': 1, 'witnesses': 1, 'must': ...             6   \n",
       "2  {'calls': 1, 'infrastructure': 1, 'protection'...             4   \n",
       "3  {'air': 1, 'staff': 1, 'aust': 1, 'strike': 1,...             6   \n",
       "4  {'air': 1, 'strike': 1, 'affect': 1, 'australi...             5   \n",
       "\n",
       "                                              ngrams  \n",
       "0  [(aba, decides), (decides, community), (commun...  \n",
       "1  [(act, fire), (fire, witnesses), (witnesses, m...  \n",
       "2  [(calls, infrastructure), (infrastructure, pro...  \n",
       "3  [(air, staff), (staff, aust), (aust, strike), ...  \n",
       "4  [(air, strike), (strike, affect), (affect, aus...  "
      ]
     },
     "execution_count": 40,
     "metadata": {},
     "output_type": "execute_result"
    }
   ],
   "source": [
    "df.head()"
   ]
  },
  {
   "cell_type": "code",
   "execution_count": 41,
   "id": "5235858b",
   "metadata": {},
   "outputs": [
    {
     "data": {
      "text/html": [
       "<div>\n",
       "<style scoped>\n",
       "    .dataframe tbody tr th:only-of-type {\n",
       "        vertical-align: middle;\n",
       "    }\n",
       "\n",
       "    .dataframe tbody tr th {\n",
       "        vertical-align: top;\n",
       "    }\n",
       "\n",
       "    .dataframe thead th {\n",
       "        text-align: right;\n",
       "    }\n",
       "</style>\n",
       "<table border=\"1\" class=\"dataframe\">\n",
       "  <thead>\n",
       "    <tr style=\"text-align: right;\">\n",
       "      <th></th>\n",
       "      <th>publish_date</th>\n",
       "      <th>headline_text</th>\n",
       "      <th>year</th>\n",
       "      <th>month</th>\n",
       "      <th>tokens</th>\n",
       "      <th>filtered_tokens</th>\n",
       "      <th>number_of_words</th>\n",
       "      <th>fd</th>\n",
       "      <th>unique_words</th>\n",
       "      <th>ngrams</th>\n",
       "      <th>sentiment_score</th>\n",
       "    </tr>\n",
       "  </thead>\n",
       "  <tbody>\n",
       "    <tr>\n",
       "      <th>0</th>\n",
       "      <td>2003-02-19</td>\n",
       "      <td>aba decides against community broadcasting lic...</td>\n",
       "      <td>2003</td>\n",
       "      <td>2</td>\n",
       "      <td>[aba, decides, against, community, broadcastin...</td>\n",
       "      <td>[aba, decides, community, broadcasting, licence]</td>\n",
       "      <td>6</td>\n",
       "      <td>{'aba': 1, 'decides': 1, 'community': 1, 'broa...</td>\n",
       "      <td>5</td>\n",
       "      <td>[(aba, decides), (decides, community), (commun...</td>\n",
       "      <td>0.00</td>\n",
       "    </tr>\n",
       "    <tr>\n",
       "      <th>1</th>\n",
       "      <td>2003-02-19</td>\n",
       "      <td>act fire witnesses must be aware of defamation</td>\n",
       "      <td>2003</td>\n",
       "      <td>2</td>\n",
       "      <td>[act, fire, witnesses, must, be, aware, of, de...</td>\n",
       "      <td>[act, fire, witnesses, must, aware, defamation]</td>\n",
       "      <td>8</td>\n",
       "      <td>{'act': 1, 'fire': 1, 'witnesses': 1, 'must': ...</td>\n",
       "      <td>6</td>\n",
       "      <td>[(act, fire), (fire, witnesses), (witnesses, m...</td>\n",
       "      <td>0.25</td>\n",
       "    </tr>\n",
       "    <tr>\n",
       "      <th>2</th>\n",
       "      <td>2003-02-19</td>\n",
       "      <td>a g calls for infrastructure protection summit</td>\n",
       "      <td>2003</td>\n",
       "      <td>2</td>\n",
       "      <td>[a, g, calls, for, infrastructure, protection,...</td>\n",
       "      <td>[calls, infrastructure, protection, summit]</td>\n",
       "      <td>7</td>\n",
       "      <td>{'calls': 1, 'infrastructure': 1, 'protection'...</td>\n",
       "      <td>4</td>\n",
       "      <td>[(calls, infrastructure), (infrastructure, pro...</td>\n",
       "      <td>0.00</td>\n",
       "    </tr>\n",
       "    <tr>\n",
       "      <th>3</th>\n",
       "      <td>2003-02-19</td>\n",
       "      <td>air nz staff in aust strike for pay rise</td>\n",
       "      <td>2003</td>\n",
       "      <td>2</td>\n",
       "      <td>[air, nz, staff, in, aust, strike, for, pay, r...</td>\n",
       "      <td>[air, staff, aust, strike, pay, rise]</td>\n",
       "      <td>9</td>\n",
       "      <td>{'air': 1, 'staff': 1, 'aust': 1, 'strike': 1,...</td>\n",
       "      <td>6</td>\n",
       "      <td>[(air, staff), (staff, aust), (aust, strike), ...</td>\n",
       "      <td>0.00</td>\n",
       "    </tr>\n",
       "    <tr>\n",
       "      <th>4</th>\n",
       "      <td>2003-02-19</td>\n",
       "      <td>air nz strike to affect australian travellers</td>\n",
       "      <td>2003</td>\n",
       "      <td>2</td>\n",
       "      <td>[air, nz, strike, to, affect, australian, trav...</td>\n",
       "      <td>[air, strike, affect, australian, travellers]</td>\n",
       "      <td>7</td>\n",
       "      <td>{'air': 1, 'strike': 1, 'affect': 1, 'australi...</td>\n",
       "      <td>5</td>\n",
       "      <td>[(air, strike), (strike, affect), (affect, aus...</td>\n",
       "      <td>0.00</td>\n",
       "    </tr>\n",
       "  </tbody>\n",
       "</table>\n",
       "</div>"
      ],
      "text/plain": [
       "  publish_date                                      headline_text  year  \\\n",
       "0   2003-02-19  aba decides against community broadcasting lic...  2003   \n",
       "1   2003-02-19     act fire witnesses must be aware of defamation  2003   \n",
       "2   2003-02-19     a g calls for infrastructure protection summit  2003   \n",
       "3   2003-02-19           air nz staff in aust strike for pay rise  2003   \n",
       "4   2003-02-19      air nz strike to affect australian travellers  2003   \n",
       "\n",
       "   month                                             tokens  \\\n",
       "0      2  [aba, decides, against, community, broadcastin...   \n",
       "1      2  [act, fire, witnesses, must, be, aware, of, de...   \n",
       "2      2  [a, g, calls, for, infrastructure, protection,...   \n",
       "3      2  [air, nz, staff, in, aust, strike, for, pay, r...   \n",
       "4      2  [air, nz, strike, to, affect, australian, trav...   \n",
       "\n",
       "                                    filtered_tokens  number_of_words  \\\n",
       "0  [aba, decides, community, broadcasting, licence]                6   \n",
       "1   [act, fire, witnesses, must, aware, defamation]                8   \n",
       "2       [calls, infrastructure, protection, summit]                7   \n",
       "3             [air, staff, aust, strike, pay, rise]                9   \n",
       "4     [air, strike, affect, australian, travellers]                7   \n",
       "\n",
       "                                                  fd  unique_words  \\\n",
       "0  {'aba': 1, 'decides': 1, 'community': 1, 'broa...             5   \n",
       "1  {'act': 1, 'fire': 1, 'witnesses': 1, 'must': ...             6   \n",
       "2  {'calls': 1, 'infrastructure': 1, 'protection'...             4   \n",
       "3  {'air': 1, 'staff': 1, 'aust': 1, 'strike': 1,...             6   \n",
       "4  {'air': 1, 'strike': 1, 'affect': 1, 'australi...             5   \n",
       "\n",
       "                                              ngrams  sentiment_score  \n",
       "0  [(aba, decides), (decides, community), (commun...             0.00  \n",
       "1  [(act, fire), (fire, witnesses), (witnesses, m...             0.25  \n",
       "2  [(calls, infrastructure), (infrastructure, pro...             0.00  \n",
       "3  [(air, staff), (staff, aust), (aust, strike), ...             0.00  \n",
       "4  [(air, strike), (strike, affect), (affect, aus...             0.00  "
      ]
     },
     "execution_count": 41,
     "metadata": {},
     "output_type": "execute_result"
    }
   ],
   "source": [
    "# Apply sentiment analysis to a column in the DataFrame\n",
    "df['sentiment_score'] = df['headline_text'].apply(analyse_sentiment)\n",
    "df.head()"
   ]
  },
  {
   "cell_type": "code",
   "execution_count": 42,
   "id": "5aa497ae",
   "metadata": {},
   "outputs": [
    {
     "data": {
      "text/html": [
       "<div>\n",
       "<style scoped>\n",
       "    .dataframe tbody tr th:only-of-type {\n",
       "        vertical-align: middle;\n",
       "    }\n",
       "\n",
       "    .dataframe tbody tr th {\n",
       "        vertical-align: top;\n",
       "    }\n",
       "\n",
       "    .dataframe thead th {\n",
       "        text-align: right;\n",
       "    }\n",
       "</style>\n",
       "<table border=\"1\" class=\"dataframe\">\n",
       "  <thead>\n",
       "    <tr style=\"text-align: right;\">\n",
       "      <th></th>\n",
       "      <th>publish_date</th>\n",
       "      <th>year</th>\n",
       "      <th>month</th>\n",
       "      <th>number_of_words</th>\n",
       "      <th>unique_words</th>\n",
       "      <th>sentiment_score</th>\n",
       "    </tr>\n",
       "  </thead>\n",
       "  <tbody>\n",
       "    <tr>\n",
       "      <th>count</th>\n",
       "      <td>1244184</td>\n",
       "      <td>1.244184e+06</td>\n",
       "      <td>1.244184e+06</td>\n",
       "      <td>1.244184e+06</td>\n",
       "      <td>1.244184e+06</td>\n",
       "      <td>1.244184e+06</td>\n",
       "    </tr>\n",
       "    <tr>\n",
       "      <th>mean</th>\n",
       "      <td>2011-06-15 09:12:08.458169600</td>\n",
       "      <td>2.010955e+03</td>\n",
       "      <td>6.511898e+00</td>\n",
       "      <td>6.519642e+00</td>\n",
       "      <td>5.247059e+00</td>\n",
       "      <td>1.726065e-02</td>\n",
       "    </tr>\n",
       "    <tr>\n",
       "      <th>min</th>\n",
       "      <td>2003-02-19 00:00:00</td>\n",
       "      <td>2.003000e+03</td>\n",
       "      <td>1.000000e+00</td>\n",
       "      <td>0.000000e+00</td>\n",
       "      <td>0.000000e+00</td>\n",
       "      <td>-1.000000e+00</td>\n",
       "    </tr>\n",
       "    <tr>\n",
       "      <th>25%</th>\n",
       "      <td>2007-06-15 00:00:00</td>\n",
       "      <td>2.007000e+03</td>\n",
       "      <td>4.000000e+00</td>\n",
       "      <td>5.000000e+00</td>\n",
       "      <td>4.000000e+00</td>\n",
       "      <td>0.000000e+00</td>\n",
       "    </tr>\n",
       "    <tr>\n",
       "      <th>50%</th>\n",
       "      <td>2011-06-22 00:00:00</td>\n",
       "      <td>2.011000e+03</td>\n",
       "      <td>7.000000e+00</td>\n",
       "      <td>6.000000e+00</td>\n",
       "      <td>5.000000e+00</td>\n",
       "      <td>0.000000e+00</td>\n",
       "    </tr>\n",
       "    <tr>\n",
       "      <th>75%</th>\n",
       "      <td>2015-02-20 00:00:00</td>\n",
       "      <td>2.015000e+03</td>\n",
       "      <td>9.000000e+00</td>\n",
       "      <td>8.000000e+00</td>\n",
       "      <td>6.000000e+00</td>\n",
       "      <td>0.000000e+00</td>\n",
       "    </tr>\n",
       "    <tr>\n",
       "      <th>max</th>\n",
       "      <td>2021-12-31 00:00:00</td>\n",
       "      <td>2.021000e+03</td>\n",
       "      <td>1.200000e+01</td>\n",
       "      <td>1.600000e+01</td>\n",
       "      <td>1.200000e+01</td>\n",
       "      <td>1.000000e+00</td>\n",
       "    </tr>\n",
       "    <tr>\n",
       "      <th>std</th>\n",
       "      <td>NaN</td>\n",
       "      <td>4.841886e+00</td>\n",
       "      <td>3.389431e+00</td>\n",
       "      <td>1.882039e+00</td>\n",
       "      <td>1.436780e+00</td>\n",
       "      <td>1.884589e-01</td>\n",
       "    </tr>\n",
       "  </tbody>\n",
       "</table>\n",
       "</div>"
      ],
      "text/plain": [
       "                        publish_date          year         month  \\\n",
       "count                        1244184  1.244184e+06  1.244184e+06   \n",
       "mean   2011-06-15 09:12:08.458169600  2.010955e+03  6.511898e+00   \n",
       "min              2003-02-19 00:00:00  2.003000e+03  1.000000e+00   \n",
       "25%              2007-06-15 00:00:00  2.007000e+03  4.000000e+00   \n",
       "50%              2011-06-22 00:00:00  2.011000e+03  7.000000e+00   \n",
       "75%              2015-02-20 00:00:00  2.015000e+03  9.000000e+00   \n",
       "max              2021-12-31 00:00:00  2.021000e+03  1.200000e+01   \n",
       "std                              NaN  4.841886e+00  3.389431e+00   \n",
       "\n",
       "       number_of_words  unique_words  sentiment_score  \n",
       "count     1.244184e+06  1.244184e+06     1.244184e+06  \n",
       "mean      6.519642e+00  5.247059e+00     1.726065e-02  \n",
       "min       0.000000e+00  0.000000e+00    -1.000000e+00  \n",
       "25%       5.000000e+00  4.000000e+00     0.000000e+00  \n",
       "50%       6.000000e+00  5.000000e+00     0.000000e+00  \n",
       "75%       8.000000e+00  6.000000e+00     0.000000e+00  \n",
       "max       1.600000e+01  1.200000e+01     1.000000e+00  \n",
       "std       1.882039e+00  1.436780e+00     1.884589e-01  "
      ]
     },
     "execution_count": 42,
     "metadata": {},
     "output_type": "execute_result"
    }
   ],
   "source": [
    "df.describe()"
   ]
  },
  {
   "cell_type": "code",
   "execution_count": 43,
   "id": "1ada5dd0",
   "metadata": {},
   "outputs": [],
   "source": [
    "filtered_df = df.loc[df[\"sentiment_score\"] == -1]"
   ]
  },
  {
   "cell_type": "code",
   "execution_count": 44,
   "id": "7d1ce87d",
   "metadata": {},
   "outputs": [
    {
     "data": {
      "text/html": [
       "<div>\n",
       "<style scoped>\n",
       "    .dataframe tbody tr th:only-of-type {\n",
       "        vertical-align: middle;\n",
       "    }\n",
       "\n",
       "    .dataframe tbody tr th {\n",
       "        vertical-align: top;\n",
       "    }\n",
       "\n",
       "    .dataframe thead th {\n",
       "        text-align: right;\n",
       "    }\n",
       "</style>\n",
       "<table border=\"1\" class=\"dataframe\">\n",
       "  <thead>\n",
       "    <tr style=\"text-align: right;\">\n",
       "      <th></th>\n",
       "      <th>publish_date</th>\n",
       "      <th>headline_text</th>\n",
       "      <th>year</th>\n",
       "      <th>month</th>\n",
       "      <th>tokens</th>\n",
       "      <th>filtered_tokens</th>\n",
       "      <th>number_of_words</th>\n",
       "      <th>fd</th>\n",
       "      <th>unique_words</th>\n",
       "      <th>ngrams</th>\n",
       "      <th>sentiment_score</th>\n",
       "    </tr>\n",
       "  </thead>\n",
       "  <tbody>\n",
       "    <tr>\n",
       "      <th>1248</th>\n",
       "      <td>2003-02-25</td>\n",
       "      <td>cotton week to coincide with worst season</td>\n",
       "      <td>2003</td>\n",
       "      <td>2</td>\n",
       "      <td>[cotton, week, to, coincide, with, worst, season]</td>\n",
       "      <td>[cotton, week, coincide, worst, season]</td>\n",
       "      <td>7</td>\n",
       "      <td>{'cotton': 1, 'week': 1, 'coincide': 1, 'worst...</td>\n",
       "      <td>5</td>\n",
       "      <td>[(cotton, week), (week, coincide), (coincide, ...</td>\n",
       "      <td>-1.0</td>\n",
       "    </tr>\n",
       "    <tr>\n",
       "      <th>2336</th>\n",
       "      <td>2003-03-01</td>\n",
       "      <td>tyson blasts pathetic don king</td>\n",
       "      <td>2003</td>\n",
       "      <td>3</td>\n",
       "      <td>[tyson, blasts, pathetic, don, king]</td>\n",
       "      <td>[tyson, blasts, pathetic, king]</td>\n",
       "      <td>5</td>\n",
       "      <td>{'tyson': 1, 'blasts': 1, 'pathetic': 1, 'king...</td>\n",
       "      <td>4</td>\n",
       "      <td>[(tyson, blasts), (blasts, pathetic), (patheti...</td>\n",
       "      <td>-1.0</td>\n",
       "    </tr>\n",
       "    <tr>\n",
       "      <th>3815</th>\n",
       "      <td>2003-03-09</td>\n",
       "      <td>henry very doubtful for roma clash</td>\n",
       "      <td>2003</td>\n",
       "      <td>3</td>\n",
       "      <td>[henry, very, doubtful, for, roma, clash]</td>\n",
       "      <td>[henry, doubtful, roma, clash]</td>\n",
       "      <td>6</td>\n",
       "      <td>{'henry': 1, 'doubtful': 1, 'roma': 1, 'clash'...</td>\n",
       "      <td>4</td>\n",
       "      <td>[(henry, doubtful), (doubtful, roma), (roma, c...</td>\n",
       "      <td>-1.0</td>\n",
       "    </tr>\n",
       "    <tr>\n",
       "      <th>6706</th>\n",
       "      <td>2003-03-23</td>\n",
       "      <td>madonna sweeps worst film awards</td>\n",
       "      <td>2003</td>\n",
       "      <td>3</td>\n",
       "      <td>[madonna, sweeps, worst, film, awards]</td>\n",
       "      <td>[madonna, sweeps, worst, film, awards]</td>\n",
       "      <td>5</td>\n",
       "      <td>{'madonna': 1, 'sweeps': 1, 'worst': 1, 'film'...</td>\n",
       "      <td>5</td>\n",
       "      <td>[(madonna, sweeps), (sweeps, worst), (worst, f...</td>\n",
       "      <td>-1.0</td>\n",
       "    </tr>\n",
       "    <tr>\n",
       "      <th>7434</th>\n",
       "      <td>2003-03-26</td>\n",
       "      <td>rallies turn nasty in sydney perth</td>\n",
       "      <td>2003</td>\n",
       "      <td>3</td>\n",
       "      <td>[rallies, turn, nasty, in, sydney, perth]</td>\n",
       "      <td>[rallies, turn, nasty, sydney, perth]</td>\n",
       "      <td>6</td>\n",
       "      <td>{'rallies': 1, 'turn': 1, 'nasty': 1, 'sydney'...</td>\n",
       "      <td>5</td>\n",
       "      <td>[(rallies, turn), (turn, nasty), (nasty, sydne...</td>\n",
       "      <td>-1.0</td>\n",
       "    </tr>\n",
       "  </tbody>\n",
       "</table>\n",
       "</div>"
      ],
      "text/plain": [
       "     publish_date                              headline_text  year  month  \\\n",
       "1248   2003-02-25  cotton week to coincide with worst season  2003      2   \n",
       "2336   2003-03-01             tyson blasts pathetic don king  2003      3   \n",
       "3815   2003-03-09         henry very doubtful for roma clash  2003      3   \n",
       "6706   2003-03-23           madonna sweeps worst film awards  2003      3   \n",
       "7434   2003-03-26         rallies turn nasty in sydney perth  2003      3   \n",
       "\n",
       "                                                 tokens  \\\n",
       "1248  [cotton, week, to, coincide, with, worst, season]   \n",
       "2336               [tyson, blasts, pathetic, don, king]   \n",
       "3815          [henry, very, doubtful, for, roma, clash]   \n",
       "6706             [madonna, sweeps, worst, film, awards]   \n",
       "7434          [rallies, turn, nasty, in, sydney, perth]   \n",
       "\n",
       "                              filtered_tokens  number_of_words  \\\n",
       "1248  [cotton, week, coincide, worst, season]                7   \n",
       "2336          [tyson, blasts, pathetic, king]                5   \n",
       "3815           [henry, doubtful, roma, clash]                6   \n",
       "6706   [madonna, sweeps, worst, film, awards]                5   \n",
       "7434    [rallies, turn, nasty, sydney, perth]                6   \n",
       "\n",
       "                                                     fd  unique_words  \\\n",
       "1248  {'cotton': 1, 'week': 1, 'coincide': 1, 'worst...             5   \n",
       "2336  {'tyson': 1, 'blasts': 1, 'pathetic': 1, 'king...             4   \n",
       "3815  {'henry': 1, 'doubtful': 1, 'roma': 1, 'clash'...             4   \n",
       "6706  {'madonna': 1, 'sweeps': 1, 'worst': 1, 'film'...             5   \n",
       "7434  {'rallies': 1, 'turn': 1, 'nasty': 1, 'sydney'...             5   \n",
       "\n",
       "                                                 ngrams  sentiment_score  \n",
       "1248  [(cotton, week), (week, coincide), (coincide, ...             -1.0  \n",
       "2336  [(tyson, blasts), (blasts, pathetic), (patheti...             -1.0  \n",
       "3815  [(henry, doubtful), (doubtful, roma), (roma, c...             -1.0  \n",
       "6706  [(madonna, sweeps), (sweeps, worst), (worst, f...             -1.0  \n",
       "7434  [(rallies, turn), (turn, nasty), (nasty, sydne...             -1.0  "
      ]
     },
     "execution_count": 44,
     "metadata": {},
     "output_type": "execute_result"
    }
   ],
   "source": [
    "filtered_df.head()"
   ]
  },
  {
   "cell_type": "markdown",
   "id": "f9354581",
   "metadata": {},
   "source": [
    "<b>Labelling Polarity"
   ]
  },
  {
   "cell_type": "code",
   "execution_count": 45,
   "id": "83fe84dc",
   "metadata": {},
   "outputs": [
    {
     "data": {
      "text/html": [
       "<div>\n",
       "<style scoped>\n",
       "    .dataframe tbody tr th:only-of-type {\n",
       "        vertical-align: middle;\n",
       "    }\n",
       "\n",
       "    .dataframe tbody tr th {\n",
       "        vertical-align: top;\n",
       "    }\n",
       "\n",
       "    .dataframe thead th {\n",
       "        text-align: right;\n",
       "    }\n",
       "</style>\n",
       "<table border=\"1\" class=\"dataframe\">\n",
       "  <thead>\n",
       "    <tr style=\"text-align: right;\">\n",
       "      <th></th>\n",
       "      <th>publish_date</th>\n",
       "      <th>headline_text</th>\n",
       "      <th>year</th>\n",
       "      <th>month</th>\n",
       "      <th>tokens</th>\n",
       "      <th>filtered_tokens</th>\n",
       "      <th>number_of_words</th>\n",
       "      <th>fd</th>\n",
       "      <th>unique_words</th>\n",
       "      <th>ngrams</th>\n",
       "      <th>sentiment_score</th>\n",
       "      <th>sentiment_labels</th>\n",
       "    </tr>\n",
       "  </thead>\n",
       "  <tbody>\n",
       "    <tr>\n",
       "      <th>0</th>\n",
       "      <td>2003-02-19</td>\n",
       "      <td>aba decides against community broadcasting lic...</td>\n",
       "      <td>2003</td>\n",
       "      <td>2</td>\n",
       "      <td>[aba, decides, against, community, broadcastin...</td>\n",
       "      <td>[aba, decides, community, broadcasting, licence]</td>\n",
       "      <td>6</td>\n",
       "      <td>{'aba': 1, 'decides': 1, 'community': 1, 'broa...</td>\n",
       "      <td>5</td>\n",
       "      <td>[(aba, decides), (decides, community), (commun...</td>\n",
       "      <td>0.00</td>\n",
       "      <td>neutral</td>\n",
       "    </tr>\n",
       "    <tr>\n",
       "      <th>1</th>\n",
       "      <td>2003-02-19</td>\n",
       "      <td>act fire witnesses must be aware of defamation</td>\n",
       "      <td>2003</td>\n",
       "      <td>2</td>\n",
       "      <td>[act, fire, witnesses, must, be, aware, of, de...</td>\n",
       "      <td>[act, fire, witnesses, must, aware, defamation]</td>\n",
       "      <td>8</td>\n",
       "      <td>{'act': 1, 'fire': 1, 'witnesses': 1, 'must': ...</td>\n",
       "      <td>6</td>\n",
       "      <td>[(act, fire), (fire, witnesses), (witnesses, m...</td>\n",
       "      <td>0.25</td>\n",
       "      <td>positive</td>\n",
       "    </tr>\n",
       "    <tr>\n",
       "      <th>2</th>\n",
       "      <td>2003-02-19</td>\n",
       "      <td>a g calls for infrastructure protection summit</td>\n",
       "      <td>2003</td>\n",
       "      <td>2</td>\n",
       "      <td>[a, g, calls, for, infrastructure, protection,...</td>\n",
       "      <td>[calls, infrastructure, protection, summit]</td>\n",
       "      <td>7</td>\n",
       "      <td>{'calls': 1, 'infrastructure': 1, 'protection'...</td>\n",
       "      <td>4</td>\n",
       "      <td>[(calls, infrastructure), (infrastructure, pro...</td>\n",
       "      <td>0.00</td>\n",
       "      <td>neutral</td>\n",
       "    </tr>\n",
       "    <tr>\n",
       "      <th>3</th>\n",
       "      <td>2003-02-19</td>\n",
       "      <td>air nz staff in aust strike for pay rise</td>\n",
       "      <td>2003</td>\n",
       "      <td>2</td>\n",
       "      <td>[air, nz, staff, in, aust, strike, for, pay, r...</td>\n",
       "      <td>[air, staff, aust, strike, pay, rise]</td>\n",
       "      <td>9</td>\n",
       "      <td>{'air': 1, 'staff': 1, 'aust': 1, 'strike': 1,...</td>\n",
       "      <td>6</td>\n",
       "      <td>[(air, staff), (staff, aust), (aust, strike), ...</td>\n",
       "      <td>0.00</td>\n",
       "      <td>neutral</td>\n",
       "    </tr>\n",
       "    <tr>\n",
       "      <th>4</th>\n",
       "      <td>2003-02-19</td>\n",
       "      <td>air nz strike to affect australian travellers</td>\n",
       "      <td>2003</td>\n",
       "      <td>2</td>\n",
       "      <td>[air, nz, strike, to, affect, australian, trav...</td>\n",
       "      <td>[air, strike, affect, australian, travellers]</td>\n",
       "      <td>7</td>\n",
       "      <td>{'air': 1, 'strike': 1, 'affect': 1, 'australi...</td>\n",
       "      <td>5</td>\n",
       "      <td>[(air, strike), (strike, affect), (affect, aus...</td>\n",
       "      <td>0.00</td>\n",
       "      <td>neutral</td>\n",
       "    </tr>\n",
       "  </tbody>\n",
       "</table>\n",
       "</div>"
      ],
      "text/plain": [
       "  publish_date                                      headline_text  year  \\\n",
       "0   2003-02-19  aba decides against community broadcasting lic...  2003   \n",
       "1   2003-02-19     act fire witnesses must be aware of defamation  2003   \n",
       "2   2003-02-19     a g calls for infrastructure protection summit  2003   \n",
       "3   2003-02-19           air nz staff in aust strike for pay rise  2003   \n",
       "4   2003-02-19      air nz strike to affect australian travellers  2003   \n",
       "\n",
       "   month                                             tokens  \\\n",
       "0      2  [aba, decides, against, community, broadcastin...   \n",
       "1      2  [act, fire, witnesses, must, be, aware, of, de...   \n",
       "2      2  [a, g, calls, for, infrastructure, protection,...   \n",
       "3      2  [air, nz, staff, in, aust, strike, for, pay, r...   \n",
       "4      2  [air, nz, strike, to, affect, australian, trav...   \n",
       "\n",
       "                                    filtered_tokens  number_of_words  \\\n",
       "0  [aba, decides, community, broadcasting, licence]                6   \n",
       "1   [act, fire, witnesses, must, aware, defamation]                8   \n",
       "2       [calls, infrastructure, protection, summit]                7   \n",
       "3             [air, staff, aust, strike, pay, rise]                9   \n",
       "4     [air, strike, affect, australian, travellers]                7   \n",
       "\n",
       "                                                  fd  unique_words  \\\n",
       "0  {'aba': 1, 'decides': 1, 'community': 1, 'broa...             5   \n",
       "1  {'act': 1, 'fire': 1, 'witnesses': 1, 'must': ...             6   \n",
       "2  {'calls': 1, 'infrastructure': 1, 'protection'...             4   \n",
       "3  {'air': 1, 'staff': 1, 'aust': 1, 'strike': 1,...             6   \n",
       "4  {'air': 1, 'strike': 1, 'affect': 1, 'australi...             5   \n",
       "\n",
       "                                              ngrams  sentiment_score  \\\n",
       "0  [(aba, decides), (decides, community), (commun...             0.00   \n",
       "1  [(act, fire), (fire, witnesses), (witnesses, m...             0.25   \n",
       "2  [(calls, infrastructure), (infrastructure, pro...             0.00   \n",
       "3  [(air, staff), (staff, aust), (aust, strike), ...             0.00   \n",
       "4  [(air, strike), (strike, affect), (affect, aus...             0.00   \n",
       "\n",
       "  sentiment_labels  \n",
       "0          neutral  \n",
       "1         positive  \n",
       "2          neutral  \n",
       "3          neutral  \n",
       "4          neutral  "
      ]
     },
     "execution_count": 45,
     "metadata": {},
     "output_type": "execute_result"
    }
   ],
   "source": [
    "# Define thresholds for positive, neutral, and negative sentiments\n",
    "positive_threshold = 0.2\n",
    "negative_threshold = -0.2\n",
    "\n",
    "df['sentiment_labels'] = df['sentiment_score'].apply(lambda score: 'positive' if score > positive_threshold\n",
    "                                                     else ('negative' if score < negative_threshold else 'neutral'))\n",
    "\n",
    "df.head()"
   ]
  },
  {
   "cell_type": "markdown",
   "id": "6c8f28c5",
   "metadata": {},
   "source": [
    "<b>Plotting Sentiment Label Distribution"
   ]
  },
  {
   "cell_type": "code",
   "execution_count": 46,
   "id": "e40b33a2",
   "metadata": {},
   "outputs": [
    {
     "data": {
      "image/png": "[encoded data removed]",
      "text/plain": [
       "<Figure size 640x480 with 1 Axes>"
      ]
     },
     "metadata": {},
     "output_type": "display_data"
    }
   ],
   "source": [
    "label_counts = df['sentiment_labels'].value_counts()\n",
    "\n",
    "ax = label_counts.plot(kind='bar')\n",
    "plt.xticks(rotation=45)\n",
    "plt.title('Sentiment Label Distribution')\n",
    "plt.xlabel('Sentiment Labels')\n",
    "plt.ylabel('Count')\n",
    "\n",
    "ax.yaxis.set_major_formatter(ticker.FuncFormatter(lambda x, pos: f'{x:,.0f}'))\n",
    "\n",
    "\n",
    "plt.show()"
   ]
  },
  {
   "cell_type": "markdown",
   "id": "ca79d282",
   "metadata": {},
   "source": [
    "<b>Sampling"
   ]
  },
  {
   "cell_type": "code",
   "execution_count": 47,
   "id": "b1289bf3",
   "metadata": {},
   "outputs": [],
   "source": [
    "sample_size = 400000"
   ]
  },
  {
   "cell_type": "code",
   "execution_count": 48,
   "id": "7f2cb24a",
   "metadata": {},
   "outputs": [],
   "source": [
    "df_Neutral = df[df['sentiment_labels'] == 'neutral'][0:sample_size]\n",
    "df_Positive = df[df['sentiment_labels'] == 'positive']\n",
    "df_Negative = df[df['sentiment_labels'] == 'negative']"
   ]
  },
  {
   "cell_type": "code",
   "execution_count": 49,
   "id": "4107f331",
   "metadata": {},
   "outputs": [
    {
     "data": {
      "text/plain": [
       "(111196, 12)"
      ]
     },
     "execution_count": 49,
     "metadata": {},
     "output_type": "execute_result"
    }
   ],
   "source": [
    "df_Positive.shape"
   ]
  },
  {
   "cell_type": "code",
   "execution_count": 50,
   "id": "da2efa4e",
   "metadata": {},
   "outputs": [],
   "source": [
    "df1 = df"
   ]
  },
  {
   "cell_type": "code",
   "execution_count": 51,
   "id": "5e826ce1",
   "metadata": {},
   "outputs": [],
   "source": [
    "df_Positive_over = df_Positive.sample(sample_size, replace=True)\n",
    "df_Negative_over = df_Negative.sample(sample_size, replace=True)\n",
    "df = pd.concat([df_Neutral, df_Positive_over, df_Negative_over], axis=0)"
   ]
  },
  {
   "cell_type": "code",
   "execution_count": 52,
   "id": "48599ba5",
   "metadata": {},
   "outputs": [
    {
     "data": {
      "image/png": "[encoded data removed]",
      "text/plain": [
       "<Figure size 640x480 with 1 Axes>"
      ]
     },
     "metadata": {},
     "output_type": "display_data"
    }
   ],
   "source": [
    "label_counts = df['sentiment_labels'].value_counts()\n",
    "\n",
    "ax = label_counts.plot(kind='bar')\n",
    "plt.xticks(rotation=45)\n",
    "plt.title('Sentiment Label Distribution')\n",
    "plt.xlabel('Sentiment Labels')\n",
    "plt.ylabel('Count')\n",
    "\n",
    "ax.yaxis.set_major_formatter(ticker.FuncFormatter(lambda x, pos: f'{x:,.0f}'))\n",
    "\n",
    "\n",
    "plt.show()"
   ]
  },
  {
   "cell_type": "code",
   "execution_count": 53,
   "id": "85b3cbeb",
   "metadata": {},
   "outputs": [
    {
     "data": {
      "text/html": [
       "<div>\n",
       "<style scoped>\n",
       "    .dataframe tbody tr th:only-of-type {\n",
       "        vertical-align: middle;\n",
       "    }\n",
       "\n",
       "    .dataframe tbody tr th {\n",
       "        vertical-align: top;\n",
       "    }\n",
       "\n",
       "    .dataframe thead th {\n",
       "        text-align: right;\n",
       "    }\n",
       "</style>\n",
       "<table border=\"1\" class=\"dataframe\">\n",
       "  <thead>\n",
       "    <tr style=\"text-align: right;\">\n",
       "      <th></th>\n",
       "      <th>publish_date</th>\n",
       "      <th>headline_text</th>\n",
       "      <th>year</th>\n",
       "      <th>month</th>\n",
       "      <th>tokens</th>\n",
       "      <th>filtered_tokens</th>\n",
       "      <th>number_of_words</th>\n",
       "      <th>fd</th>\n",
       "      <th>unique_words</th>\n",
       "      <th>ngrams</th>\n",
       "      <th>sentiment_score</th>\n",
       "      <th>sentiment_labels</th>\n",
       "    </tr>\n",
       "  </thead>\n",
       "  <tbody>\n",
       "    <tr>\n",
       "      <th>0</th>\n",
       "      <td>2003-02-19</td>\n",
       "      <td>aba decides against community broadcasting lic...</td>\n",
       "      <td>2003</td>\n",
       "      <td>2</td>\n",
       "      <td>[aba, decides, against, community, broadcastin...</td>\n",
       "      <td>[aba, decides, community, broadcasting, licence]</td>\n",
       "      <td>6</td>\n",
       "      <td>{'aba': 1, 'decides': 1, 'community': 1, 'broa...</td>\n",
       "      <td>5</td>\n",
       "      <td>[(aba, decides), (decides, community), (commun...</td>\n",
       "      <td>0.0</td>\n",
       "      <td>neutral</td>\n",
       "    </tr>\n",
       "    <tr>\n",
       "      <th>2</th>\n",
       "      <td>2003-02-19</td>\n",
       "      <td>a g calls for infrastructure protection summit</td>\n",
       "      <td>2003</td>\n",
       "      <td>2</td>\n",
       "      <td>[a, g, calls, for, infrastructure, protection,...</td>\n",
       "      <td>[calls, infrastructure, protection, summit]</td>\n",
       "      <td>7</td>\n",
       "      <td>{'calls': 1, 'infrastructure': 1, 'protection'...</td>\n",
       "      <td>4</td>\n",
       "      <td>[(calls, infrastructure), (infrastructure, pro...</td>\n",
       "      <td>0.0</td>\n",
       "      <td>neutral</td>\n",
       "    </tr>\n",
       "    <tr>\n",
       "      <th>3</th>\n",
       "      <td>2003-02-19</td>\n",
       "      <td>air nz staff in aust strike for pay rise</td>\n",
       "      <td>2003</td>\n",
       "      <td>2</td>\n",
       "      <td>[air, nz, staff, in, aust, strike, for, pay, r...</td>\n",
       "      <td>[air, staff, aust, strike, pay, rise]</td>\n",
       "      <td>9</td>\n",
       "      <td>{'air': 1, 'staff': 1, 'aust': 1, 'strike': 1,...</td>\n",
       "      <td>6</td>\n",
       "      <td>[(air, staff), (staff, aust), (aust, strike), ...</td>\n",
       "      <td>0.0</td>\n",
       "      <td>neutral</td>\n",
       "    </tr>\n",
       "    <tr>\n",
       "      <th>4</th>\n",
       "      <td>2003-02-19</td>\n",
       "      <td>air nz strike to affect australian travellers</td>\n",
       "      <td>2003</td>\n",
       "      <td>2</td>\n",
       "      <td>[air, nz, strike, to, affect, australian, trav...</td>\n",
       "      <td>[air, strike, affect, australian, travellers]</td>\n",
       "      <td>7</td>\n",
       "      <td>{'air': 1, 'strike': 1, 'affect': 1, 'australi...</td>\n",
       "      <td>5</td>\n",
       "      <td>[(air, strike), (strike, affect), (affect, aus...</td>\n",
       "      <td>0.0</td>\n",
       "      <td>neutral</td>\n",
       "    </tr>\n",
       "    <tr>\n",
       "      <th>7</th>\n",
       "      <td>2003-02-19</td>\n",
       "      <td>aussie qualifier stosur wastes four memphis match</td>\n",
       "      <td>2003</td>\n",
       "      <td>2</td>\n",
       "      <td>[aussie, qualifier, stosur, wastes, four, memp...</td>\n",
       "      <td>[aussie, qualifier, stosur, wastes, four, memp...</td>\n",
       "      <td>7</td>\n",
       "      <td>{'aussie': 1, 'qualifier': 1, 'stosur': 1, 'wa...</td>\n",
       "      <td>7</td>\n",
       "      <td>[(aussie, qualifier), (qualifier, stosur), (st...</td>\n",
       "      <td>-0.2</td>\n",
       "      <td>neutral</td>\n",
       "    </tr>\n",
       "  </tbody>\n",
       "</table>\n",
       "</div>"
      ],
      "text/plain": [
       "  publish_date                                      headline_text  year  \\\n",
       "0   2003-02-19  aba decides against community broadcasting lic...  2003   \n",
       "2   2003-02-19     a g calls for infrastructure protection summit  2003   \n",
       "3   2003-02-19           air nz staff in aust strike for pay rise  2003   \n",
       "4   2003-02-19      air nz strike to affect australian travellers  2003   \n",
       "7   2003-02-19  aussie qualifier stosur wastes four memphis match  2003   \n",
       "\n",
       "   month                                             tokens  \\\n",
       "0      2  [aba, decides, against, community, broadcastin...   \n",
       "2      2  [a, g, calls, for, infrastructure, protection,...   \n",
       "3      2  [air, nz, staff, in, aust, strike, for, pay, r...   \n",
       "4      2  [air, nz, strike, to, affect, australian, trav...   \n",
       "7      2  [aussie, qualifier, stosur, wastes, four, memp...   \n",
       "\n",
       "                                     filtered_tokens  number_of_words  \\\n",
       "0   [aba, decides, community, broadcasting, licence]                6   \n",
       "2        [calls, infrastructure, protection, summit]                7   \n",
       "3              [air, staff, aust, strike, pay, rise]                9   \n",
       "4      [air, strike, affect, australian, travellers]                7   \n",
       "7  [aussie, qualifier, stosur, wastes, four, memp...                7   \n",
       "\n",
       "                                                  fd  unique_words  \\\n",
       "0  {'aba': 1, 'decides': 1, 'community': 1, 'broa...             5   \n",
       "2  {'calls': 1, 'infrastructure': 1, 'protection'...             4   \n",
       "3  {'air': 1, 'staff': 1, 'aust': 1, 'strike': 1,...             6   \n",
       "4  {'air': 1, 'strike': 1, 'affect': 1, 'australi...             5   \n",
       "7  {'aussie': 1, 'qualifier': 1, 'stosur': 1, 'wa...             7   \n",
       "\n",
       "                                              ngrams  sentiment_score  \\\n",
       "0  [(aba, decides), (decides, community), (commun...              0.0   \n",
       "2  [(calls, infrastructure), (infrastructure, pro...              0.0   \n",
       "3  [(air, staff), (staff, aust), (aust, strike), ...              0.0   \n",
       "4  [(air, strike), (strike, affect), (affect, aus...              0.0   \n",
       "7  [(aussie, qualifier), (qualifier, stosur), (st...             -0.2   \n",
       "\n",
       "  sentiment_labels  \n",
       "0          neutral  \n",
       "2          neutral  \n",
       "3          neutral  \n",
       "4          neutral  \n",
       "7          neutral  "
      ]
     },
     "execution_count": 53,
     "metadata": {},
     "output_type": "execute_result"
    }
   ],
   "source": [
    "df.head()"
   ]
  },
  {
   "cell_type": "markdown",
   "id": "63f346ce",
   "metadata": {},
   "source": [
    "<b>Selecting X and y"
   ]
  },
  {
   "cell_type": "code",
   "execution_count": 54,
   "id": "7a84b64e",
   "metadata": {},
   "outputs": [],
   "source": [
    "X = df[\"filtered_tokens\"]\n",
    "X = X.apply(lambda words: ' '.join(words))\n",
    "y = df[\"sentiment_labels\"]"
   ]
  },
  {
   "cell_type": "markdown",
   "id": "e966f87e",
   "metadata": {},
   "source": [
    "<b> Test, Train Split"
   ]
  },
  {
   "cell_type": "code",
   "execution_count": 55,
   "id": "53eb24bf",
   "metadata": {},
   "outputs": [],
   "source": [
    "X_train, X_test, y_train, y_test = train_test_split(X, y, test_size=0.30, random_state=42)"
   ]
  },
  {
   "cell_type": "code",
   "execution_count": 56,
   "id": "9ded987a",
   "metadata": {},
   "outputs": [
    {
     "data": {
      "text/plain": [
       "(840000,)"
      ]
     },
     "execution_count": 56,
     "metadata": {},
     "output_type": "execute_result"
    }
   ],
   "source": [
    "X_train.shape"
   ]
  },
  {
   "cell_type": "markdown",
   "id": "36ced40b",
   "metadata": {},
   "source": [
    "<b> Vectorisation"
   ]
  },
  {
   "cell_type": "code",
   "execution_count": 57,
   "id": "e09a23ec",
   "metadata": {},
   "outputs": [],
   "source": [
    "vect = CountVectorizer()\n",
    "X_train = vect.fit_transform(X_train)\n",
    "X_test = vect.transform(X_test)"
   ]
  },
  {
   "cell_type": "code",
   "execution_count": 58,
   "id": "aee10d63",
   "metadata": {},
   "outputs": [],
   "source": [
    "#tfidf = TfidfTransformer()\n",
    "#X_train = tfidf.fit_transform(X_train)\n",
    "#X_test = tfidf.transform(X_test)\n",
    "#X_train = X_train.toarray()\n",
    "#X_test = X_test.toarray()"
   ]
  },
  {
   "cell_type": "markdown",
   "id": "9862a13a",
   "metadata": {},
   "source": [
    "### Modelling"
   ]
  },
  {
   "cell_type": "markdown",
   "id": "5a3be968",
   "metadata": {},
   "source": [
    "<b> Imports"
   ]
  },
  {
   "cell_type": "code",
   "execution_count": 59,
   "id": "a492fe5d",
   "metadata": {},
   "outputs": [],
   "source": [
    "from sklearn import metrics\n",
    "from sklearn.metrics import accuracy_score, confusion_matrix\n",
    "from sklearn.naive_bayes import MultinomialNB"
   ]
  },
  {
   "cell_type": "code",
   "execution_count": 60,
   "id": "271455e8",
   "metadata": {},
   "outputs": [
    {
     "data": {
      "text/plain": [
       "(840000,)"
      ]
     },
     "execution_count": 60,
     "metadata": {},
     "output_type": "execute_result"
    }
   ],
   "source": [
    "y_train.shape"
   ]
  },
  {
   "cell_type": "markdown",
   "id": "a7838466",
   "metadata": {},
   "source": [
    "<b> Fitting Model"
   ]
  },
  {
   "cell_type": "code",
   "execution_count": 61,
   "id": "7179d3f1",
   "metadata": {},
   "outputs": [
    {
     "data": {
      "text/html": [
       "<style>#sk-container-id-1 {color: black;background-color: white;}#sk-container-id-1 pre{padding: 0;}#sk-container-id-1 div.sk-toggleable {background-color: white;}#sk-container-id-1 label.sk-toggleable__label {cursor: pointer;display: block;width: 100%;margin-bottom: 0;padding: 0.3em;box-sizing: border-box;text-align: center;}#sk-container-id-1 label.sk-toggleable__label-arrow:before {content: \"▸\";float: left;margin-right: 0.25em;color: #696969;}#sk-container-id-1 label.sk-toggleable__label-arrow:hover:before {color: black;}#sk-container-id-1 div.sk-estimator:hover label.sk-toggleable__label-arrow:before {color: black;}#sk-container-id-1 div.sk-toggleable__content {max-height: 0;max-width: 0;overflow: hidden;text-align: left;background-color: #f0f8ff;}#sk-container-id-1 div.sk-toggleable__content pre {margin: 0.2em;color: black;border-radius: 0.25em;background-color: #f0f8ff;}#sk-container-id-1 input.sk-toggleable__control:checked~div.sk-toggleable__content {max-height: 200px;max-width: 100%;overflow: auto;}#sk-container-id-1 input.sk-toggleable__control:checked~label.sk-toggleable__label-arrow:before {content: \"▾\";}#sk-container-id-1 div.sk-estimator input.sk-toggleable__control:checked~label.sk-toggleable__label {background-color: #d4ebff;}#sk-container-id-1 div.sk-label input.sk-toggleable__control:checked~label.sk-toggleable__label {background-color: #d4ebff;}#sk-container-id-1 input.sk-hidden--visually {border: 0;clip: rect(1px 1px 1px 1px);clip: rect(1px, 1px, 1px, 1px);height: 1px;margin: -1px;overflow: hidden;padding: 0;position: absolute;width: 1px;}#sk-container-id-1 div.sk-estimator {font-family: monospace;background-color: #f0f8ff;border: 1px dotted black;border-radius: 0.25em;box-sizing: border-box;margin-bottom: 0.5em;}#sk-container-id-1 div.sk-estimator:hover {background-color: #d4ebff;}#sk-container-id-1 div.sk-parallel-item::after {content: \"\";width: 100%;border-bottom: 1px solid gray;flex-grow: 1;}#sk-container-id-1 div.sk-label:hover label.sk-toggleable__label {background-color: #d4ebff;}#sk-container-id-1 div.sk-serial::before {content: \"\";position: absolute;border-left: 1px solid gray;box-sizing: border-box;top: 0;bottom: 0;left: 50%;z-index: 0;}#sk-container-id-1 div.sk-serial {display: flex;flex-direction: column;align-items: center;background-color: white;padding-right: 0.2em;padding-left: 0.2em;position: relative;}#sk-container-id-1 div.sk-item {position: relative;z-index: 1;}#sk-container-id-1 div.sk-parallel {display: flex;align-items: stretch;justify-content: center;background-color: white;position: relative;}#sk-container-id-1 div.sk-item::before, #sk-container-id-1 div.sk-parallel-item::before {content: \"\";position: absolute;border-left: 1px solid gray;box-sizing: border-box;top: 0;bottom: 0;left: 50%;z-index: -1;}#sk-container-id-1 div.sk-parallel-item {display: flex;flex-direction: column;z-index: 1;position: relative;background-color: white;}#sk-container-id-1 div.sk-parallel-item:first-child::after {align-self: flex-end;width: 50%;}#sk-container-id-1 div.sk-parallel-item:last-child::after {align-self: flex-start;width: 50%;}#sk-container-id-1 div.sk-parallel-item:only-child::after {width: 0;}#sk-container-id-1 div.sk-dashed-wrapped {border: 1px dashed gray;margin: 0 0.4em 0.5em 0.4em;box-sizing: border-box;padding-bottom: 0.4em;background-color: white;}#sk-container-id-1 div.sk-label label {font-family: monospace;font-weight: bold;display: inline-block;line-height: 1.2em;}#sk-container-id-1 div.sk-label-container {text-align: center;}#sk-container-id-1 div.sk-container {/* jupyter's `normalize.less` sets `[hidden] { display: none; }` but bootstrap.min.css set `[hidden] { display: none !important; }` so we also need the `!important` here to be able to override the default hidden behavior on the sphinx rendered scikit-learn.org. See: https://github.com/scikit-learn/scikit-learn/issues/21755 */display: inline-block !important;position: relative;}#sk-container-id-1 div.sk-text-repr-fallback {display: none;}</style><div id=\"sk-container-id-1\" class=\"sk-top-container\"><div class=\"sk-text-repr-fallback\"><pre>MultinomialNB()</pre><b>In a Jupyter environment, please rerun this cell to show the HTML representation or trust the notebook. <br />On GitHub, the HTML representation is unable to render, please try loading this page with nbviewer.org.</b></div><div class=\"sk-container\" hidden><div class=\"sk-item\"><div class=\"sk-estimator sk-toggleable\"><input class=\"sk-toggleable__control sk-hidden--visually\" id=\"sk-estimator-id-1\" type=\"checkbox\" checked><label for=\"sk-estimator-id-1\" class=\"sk-toggleable__label sk-toggleable__label-arrow\">MultinomialNB</label><div class=\"sk-toggleable__content\"><pre>MultinomialNB()</pre></div></div></div></div></div>"
      ],
      "text/plain": [
       "MultinomialNB()"
      ]
     },
     "execution_count": 61,
     "metadata": {},
     "output_type": "execute_result"
    }
   ],
   "source": [
    "MNB = MultinomialNB()\n",
    "MNB.fit(X_train, y_train)"
   ]
  },
  {
   "cell_type": "markdown",
   "id": "6ccefdac",
   "metadata": {},
   "source": [
    "<b>Accuracy"
   ]
  },
  {
   "cell_type": "code",
   "execution_count": 62,
   "id": "e5157029",
   "metadata": {},
   "outputs": [
    {
     "name": "stdout",
     "output_type": "stream",
     "text": [
      "Accuracy Score:  0.8842972222222222\n"
     ]
    }
   ],
   "source": [
    "predicted = MNB.predict(X_test)\n",
    "accuracy_score = metrics.accuracy_score(predicted, y_test)\n",
    "print(\"Accuracy Score: \",accuracy_score)"
   ]
  },
  {
   "cell_type": "markdown",
   "id": "9eea36ed",
   "metadata": {},
   "source": [
    "<b>Confusion Matrix"
   ]
  },
  {
   "cell_type": "code",
   "execution_count": 63,
   "id": "133532c2",
   "metadata": {},
   "outputs": [
    {
     "data": {
      "text/plain": [
       "array(['neutral', 'positive', 'negative', ..., 'negative', 'neutral',\n",
       "       'negative'], dtype='<U8')"
      ]
     },
     "execution_count": 63,
     "metadata": {},
     "output_type": "execute_result"
    }
   ],
   "source": [
    "predicted"
   ]
  },
  {
   "cell_type": "code",
   "execution_count": 64,
   "id": "0d37bfff",
   "metadata": {},
   "outputs": [
    {
     "name": "stdout",
     "output_type": "stream",
     "text": [
      "[[118323    559   1239]\n",
      " [ 11065  93561  15157]\n",
      " [  3397  10236 106463]]\n"
     ]
    }
   ],
   "source": [
    "cm = confusion_matrix(y_test, predicted)\n",
    "print(cm)"
   ]
  },
  {
   "cell_type": "code",
   "execution_count": 65,
   "id": "5a52d2a6",
   "metadata": {},
   "outputs": [
    {
     "name": "stdout",
     "output_type": "stream",
     "text": [
      "negative - Row 0: [118323    559   1239]\n",
      "neutral - Row 1: [11065 93561 15157]\n",
      "positive - Row 2: [  3397  10236 106463]\n"
     ]
    }
   ],
   "source": [
    "unique_labels = np.unique(predicted)\n",
    "\n",
    "for i, label in enumerate(unique_labels):\n",
    "    print(f\"{label} - Row {i}: {cm[i]}\")"
   ]
  },
  {
   "cell_type": "code",
   "execution_count": 67,
   "id": "a59a37ad",
   "metadata": {},
   "outputs": [
    {
     "data": {
      "image/png": "[encoded data removed]",
      "text/plain": [
       "<Figure size 640x480 with 2 Axes>"
      ]
     },
     "metadata": {},
     "output_type": "display_data"
    }
   ],
   "source": [
    "labels = ['Negative', 'Neutral', 'Positive']\n",
    "l = sns.heatmap(cm, annot=True, fmt='d', xticklabels=labels, yticklabels=labels, cmap='Blues')\n",
    "plt.title('Sentiment Analysis Confusion Matrix')\n",
    "plt.show()"
   ]
  }
 ],
 "metadata": {
  "kernelspec": {
   "display_name": "Python 3 (ipykernel)",
   "language": "python",
   "name": "python3"
  },
  "language_info": {
   "codemirror_mode": {
    "name": "ipython",
    "version": 3
   },
   "file_extension": ".py",
   "mimetype": "text/x-python",
   "name": "python",
   "nbconvert_exporter": "python",
   "pygments_lexer": "ipython3",
   "version": "3.9.16"
  }
 },
 "nbformat": 4,
 "nbformat_minor": 5
}
